{
 "cells": [
  {
   "cell_type": "code",
   "execution_count": 1,
   "metadata": {},
   "outputs": [],
   "source": [
    "import random\n",
    "\n",
    "# Función de fitness para evaluar la calidad de un cromosoma\n",
    "def fitness(chromosome):\n",
    "    distance = 0\n",
    "    for i in range(len(chromosome) - 1):\n",
    "        distance += abs(chromosome[i] - chromosome[i + 1])\n",
    "    return distance\n",
    "\n",
    "# Función de cruce para generar nuevos cromosomas\n",
    "def crossover(parent1, parent2):\n",
    "    child = parent1[:]\n",
    "    for i in range(len(child)):\n",
    "        if child[i] in parent2:\n",
    "            continue\n",
    "        else:\n",
    "            choices = [gene for gene in parent2 if abs(gene - child[i]) > 1]\n",
    "            if choices:\n",
    "                child[i] = random.choice(choices)\n",
    "    return child\n",
    "\n",
    "# Función de mutación para modificar aleatoriamente un cromosoma\n",
    "def mutate(chromosome):\n",
    "    mutated_chromosome = chromosome[:]\n",
    "    index1, index2 = random.sample(range(len(chromosome)), 2)\n",
    "    mutated_chromosome[index1], mutated_chromosome[index2] = mutated_chromosome[index2], mutated_chromosome[index1]\n",
    "    return mutated_chromosome\n",
    "\n",
    "# Función principal que ejecuta el algoritmo genético\n",
    "def genetic_algorithm(population_size, generations):\n",
    "    # Generamos una población inicial aleatoria de cromosomas\n",
    "    population = []\n",
    "    for i in range(population_size):\n",
    "        chromosome = random.sample(range(1, 10), 9)\n",
    "        population.append(chromosome)\n",
    "    \n",
    "    # Ejecutamos las iteraciones del algoritmo\n",
    "    for i in range(generations):\n",
    "        # Evaluamos la calidad de los cromosomas de la población actual\n",
    "        population_fitness = [(chromosome, fitness(chromosome)) for chromosome in population]\n",
    "        population_fitness.sort(key=lambda x: x[1], reverse=True)\n",
    "        \n",
    "        # Seleccionamos los mejores cromosomas para cruzar y generar la siguiente generación\n",
    "        selected_parents = [chromosome for chromosome, fitness in population_fitness[:population_size//2]]\n",
    "        new_population = []\n",
    "        while len(new_population) < population_size:\n",
    "            parent1, parent2 = random.sample(selected_parents, 2)\n",
    "            child = crossover(parent1, parent2)\n",
    "            if random.random() < 0.1:  # 10% de probabilidad de mutación\n",
    "                child = mutate(child)\n",
    "            new_population.append(child)\n",
    "        \n",
    "        # Actualizamos la población con la nueva generación\n",
    "        population = new_population\n",
    "    \n",
    "    # Ordenamos la población final por calidad de los cromosomas\n",
    "    population_fitness = [(chromosome, fitness(chromosome)) for chromosome in population]\n",
    "    population_fitness.sort(key=lambda x: x[1], reverse=True)\n",
    "    \n",
    "    # imprimir las mejores cromosomas\n",
    "    print('Mejores cromosomas:')\n",
    "    for i in population_fitness[:20]:\n",
    "        print(i)\n",
    "    # Retornamos el cromosoma con mayor calidad\n",
    "    return population_fitness[0][0]"
   ]
  },
  {
   "cell_type": "code",
   "execution_count": 2,
   "metadata": {},
   "outputs": [
    {
     "name": "stdout",
     "output_type": "stream",
     "text": [
      "Mejores cromosomas:\n",
      "([5, 1, 8, 3, 7, 2, 9, 4, 6], 39)\n",
      "([6, 1, 7, 4, 9, 2, 8, 3, 5], 39)\n",
      "([5, 1, 8, 3, 7, 2, 9, 4, 6], 39)\n",
      "([6, 1, 7, 4, 9, 2, 8, 3, 5], 39)\n",
      "([6, 1, 7, 4, 9, 2, 8, 3, 5], 39)\n",
      "([6, 1, 7, 4, 9, 2, 8, 3, 5], 39)\n",
      "([6, 1, 7, 4, 9, 2, 8, 3, 5], 39)\n",
      "([6, 1, 7, 4, 9, 2, 8, 3, 5], 39)\n",
      "([6, 1, 7, 4, 8, 2, 9, 3, 5], 39)\n",
      "([6, 1, 7, 4, 9, 2, 8, 3, 5], 39)\n",
      "([6, 1, 7, 4, 9, 2, 8, 3, 5], 39)\n",
      "([5, 1, 8, 3, 7, 2, 9, 4, 6], 39)\n",
      "([6, 1, 7, 4, 9, 2, 8, 3, 5], 39)\n",
      "([6, 1, 7, 4, 9, 2, 8, 3, 5], 39)\n",
      "([6, 1, 7, 4, 9, 2, 8, 3, 5], 39)\n",
      "([6, 1, 7, 4, 9, 2, 8, 3, 5], 39)\n",
      "([6, 1, 7, 4, 9, 2, 8, 3, 5], 39)\n",
      "([6, 1, 7, 4, 9, 2, 8, 3, 5], 39)\n",
      "([6, 1, 7, 4, 9, 2, 8, 3, 5], 39)\n",
      "([5, 1, 8, 3, 7, 2, 9, 4, 6], 39)\n"
     ]
    },
    {
     "data": {
      "text/plain": [
       "[5, 1, 8, 3, 7, 2, 9, 4, 6]"
      ]
     },
     "execution_count": 2,
     "metadata": {},
     "output_type": "execute_result"
    }
   ],
   "source": [
    "genetic_algorithm(100, 300)"
   ]
  }
 ],
 "metadata": {
  "kernelspec": {
   "display_name": "Python 3",
   "language": "python",
   "name": "python3"
  },
  "language_info": {
   "codemirror_mode": {
    "name": "ipython",
    "version": 3
   },
   "file_extension": ".py",
   "mimetype": "text/x-python",
   "name": "python",
   "nbconvert_exporter": "python",
   "pygments_lexer": "ipython3",
   "version": "3.10.11"
  },
  "orig_nbformat": 4
 },
 "nbformat": 4,
 "nbformat_minor": 2
}
